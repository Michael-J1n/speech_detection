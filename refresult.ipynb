{
 "cells": [
  {
   "cell_type": "code",
   "execution_count": 1,
   "metadata": {},
   "outputs": [],
   "source": [
    "import os\n",
    "import zipfile\n",
    "import pandas as pd\n",
    "from tqdm import tqdm\n",
    "import torch\n",
    "import torch.nn as nn\n",
    "import torch.optim as optim\n",
    "from torch.utils.data import DataLoader, random_split\n",
    "from torchvision.models import resnet34, ResNet34_Weights\n",
    "from dataset.spectrogram_dataset import SpectrogramDataset"
   ]
  },
  {
   "cell_type": "code",
   "execution_count": 2,
   "metadata": {},
   "outputs": [],
   "source": [
    "class AudioNet(nn.Module):\n",
    "    def __init__(self):\n",
    "        super().__init__()\n",
    "        base = resnet34(weights=ResNet34_Weights.DEFAULT)\n",
    "        self.conv1 = nn.Conv2d(1, 64, kernel_size=7, stride=2, padding=3, bias=False)\n",
    "        with torch.no_grad():\n",
    "            self.conv1.weight = nn.Parameter(\n",
    "                base.conv1.weight.mean(dim=1, keepdim=True)\n",
    "            )\n",
    "        self.bn1 = base.bn1\n",
    "        self.relu = base.relu\n",
    "        self.maxpool = base.maxpool\n",
    "        self.layer1 = base.layer1\n",
    "        self.layer2 = base.layer2\n",
    "        self.layer3 = base.layer3\n",
    "        self.layer4 = base.layer4\n",
    "        self.avgpool = base.avgpool\n",
    "        self.fc = nn.Linear(base.fc.in_features, 2)\n",
    "\n",
    "    def forward(self, x):\n",
    "        x = self.conv1(x)\n",
    "        x = self.bn1(x)\n",
    "        x = self.relu(x)\n",
    "        x = self.maxpool(x)\n",
    "        x = self.layer1(x)\n",
    "        x = self.layer2(x)\n",
    "        x = self.layer3(x)\n",
    "        x = self.layer4(x)\n",
    "        x = self.avgpool(x)\n",
    "        x = torch.flatten(x, 1)\n",
    "        return self.fc(x)"
   ]
  },
  {
   "cell_type": "code",
   "execution_count": 3,
   "metadata": {},
   "outputs": [],
   "source": [
    "def train_one_epoch(model, train_loader, val_loader, criterion, optimizer, device):\n",
    "    model.train()\n",
    "    total_loss = 0.0\n",
    "\n",
    "    for batch in tqdm(train_loader, desc=\"Train\"):\n",
    "        x = batch[\"spectrogram\"].to(device)\n",
    "        y = batch[\"label\"].to(device)\n",
    "        optimizer.zero_grad()\n",
    "        output = model(x)\n",
    "        loss = criterion(output, y)\n",
    "        loss.backward()\n",
    "        optimizer.step()\n",
    "\n",
    "        total_loss += loss.item()\n",
    "\n",
    "    train_loss = total_loss / len(train_loader)\n",
    "    print(f\"Train Loss: {train_loss:.4f}\")\n",
    "\n",
    "    model.eval()\n",
    "    val_loss = 0.0\n",
    "\n",
    "    with torch.no_grad():\n",
    "        for batch in val_loader:\n",
    "            x = batch[\"spectrogram\"].to(device)\n",
    "            y = batch[\"label\"].to(device)\n",
    "            output = model(x)\n",
    "            loss = criterion(output, y)\n",
    "\n",
    "            val_loss += loss.item()\n",
    "\n",
    "    val_loss /= len(val_loader)\n",
    "    print(f\"Val Split Loss: {val_loss:.4f}\")"
   ]
  },
  {
   "cell_type": "code",
   "execution_count": 4,
   "metadata": {},
   "outputs": [],
   "source": [
    "def predict(model, loader, device):\n",
    "    model.eval()\n",
    "    preds = []\n",
    "    with torch.no_grad():\n",
    "        for batch in tqdm(loader, desc=\"Test\"):\n",
    "            x = batch[\"spectrogram\"].to(device)\n",
    "            output = model(x)\n",
    "            pred = torch.argmax(output, dim=1)\n",
    "            preds.extend(pred.cpu().numpy())\n",
    "    return preds"
   ]
  },
  {
   "cell_type": "code",
   "execution_count": 5,
   "metadata": {},
   "outputs": [],
   "source": [
    "def save_submission_csv(preds, save_name):\n",
    "    df = pd.DataFrame(preds)\n",
    "    df.to_csv(save_name, index=False, header=False)"
   ]
  },
  {
   "cell_type": "code",
   "execution_count": 6,
   "metadata": {},
   "outputs": [],
   "source": [
    "device = torch.device(\"cuda\" if torch.cuda.is_available() else \"cpu\")\n",
    "model = AudioNet().to(device)\n",
    "optimizer = optim.Adam(model.parameters(), lr=1e-4, weight_decay=1e-5)\n",
    "criterion = nn.CrossEntropyLoss()"
   ]
  },
  {
   "cell_type": "code",
   "execution_count": 7,
   "metadata": {},
   "outputs": [
    {
     "name": "stderr",
     "output_type": "stream",
     "text": [
      "Train: 100%|██████████| 1425/1425 [00:51<00:00, 27.88it/s]\n"
     ]
    },
    {
     "name": "stdout",
     "output_type": "stream",
     "text": [
      "Train Loss: 0.0272\n",
      "Val Split Loss: 0.0095\n"
     ]
    },
    {
     "name": "stderr",
     "output_type": "stream",
     "text": [
      "Train: 100%|██████████| 1425/1425 [00:43<00:00, 32.98it/s]\n"
     ]
    },
    {
     "name": "stdout",
     "output_type": "stream",
     "text": [
      "Train Loss: 0.0057\n",
      "Val Split Loss: 0.0076\n"
     ]
    }
   ],
   "source": [
    "full_train_set = SpectrogramDataset(\"dataset/training_set\")\n",
    "val_size = int(0.2 * len(full_train_set))\n",
    "train_size = len(full_train_set) - val_size\n",
    "train_set, val_split_set = random_split(full_train_set, [train_size, val_size])\n",
    "train_loader = DataLoader(train_set, batch_size=32, shuffle=True)\n",
    "val_split_loader = DataLoader(val_split_set, batch_size=32)\n",
    "\n",
    "for _ in range(2):\n",
    "    train_one_epoch(\n",
    "        model, train_loader, val_split_loader, criterion, optimizer, device\n",
    "    )"
   ]
  },
  {
   "cell_type": "code",
   "execution_count": 8,
   "metadata": {},
   "outputs": [
    {
     "name": "stderr",
     "output_type": "stream",
     "text": [
      "Test: 100%|██████████| 223/223 [00:03<00:00, 70.67it/s]\n",
      "Test: 100%|██████████| 223/223 [00:03<00:00, 71.06it/s]\n"
     ]
    }
   ],
   "source": [
    "val_set = SpectrogramDataset(\"dataset/validation_set\")\n",
    "test_set = SpectrogramDataset(\"dataset/testing_set\")\n",
    "val_loader = DataLoader(val_set, batch_size=32)\n",
    "test_loader = DataLoader(test_set, batch_size=32)\n",
    "\n",
    "val_preds = predict(model, val_loader, device)\n",
    "test_preds = predict(model, test_loader, device)"
   ]
  },
  {
   "cell_type": "code",
   "execution_count": 9,
   "metadata": {},
   "outputs": [],
   "source": [
    "save_submission_csv(val_preds, \"submissionA.csv\")\n",
    "save_submission_csv(test_preds, \"submissionB.csv\")\n",
    "with zipfile.ZipFile(\"submission.zip\", \"w\") as zipf:\n",
    "    zipf.write(\"submissionA.csv\")\n",
    "    zipf.write(\"submissionB.csv\")\n",
    "os.remove(\"submissionA.csv\")\n",
    "os.remove(\"submissionB.csv\")"
   ]
  }
 ],
 "metadata": {
  "kernelspec": {
   "display_name": "noai_env",
   "language": "python",
   "name": "python3"
  },
  "language_info": {
   "codemirror_mode": {
    "name": "ipython",
    "version": 3
   },
   "file_extension": ".py",
   "mimetype": "text/x-python",
   "name": "python",
   "nbconvert_exporter": "python",
   "pygments_lexer": "ipython3",
   "version": "3.9.21"
  }
 },
 "nbformat": 4,
 "nbformat_minor": 2
}
